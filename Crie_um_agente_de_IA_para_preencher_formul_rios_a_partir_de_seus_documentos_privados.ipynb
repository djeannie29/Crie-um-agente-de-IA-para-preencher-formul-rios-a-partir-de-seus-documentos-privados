{
  "nbformat": 4,
  "nbformat_minor": 0,
  "metadata": {
    "colab": {
      "provenance": [],
      "authorship_tag": "ABX9TyPBq3gqZJxXmtUN9TwNnUq8",
      "include_colab_link": true
    },
    "kernelspec": {
      "name": "python3",
      "display_name": "Python 3"
    },
    "language_info": {
      "name": "python"
    }
  },
  "cells": [
    {
      "cell_type": "markdown",
      "metadata": {
        "id": "view-in-github",
        "colab_type": "text"
      },
      "source": [
        "<a href=\"https://colab.research.google.com/github/djeannie29/Crie-um-agente-de-IA-para-preencher-formul-rios-a-partir-de-seus-documentos-privados/blob/main/Crie_um_agente_de_IA_para_preencher_formul_rios_a_partir_de_seus_documentos_privados.ipynb\" target=\"_parent\"><img src=\"https://colab.research.google.com/assets/colab-badge.svg\" alt=\"Open In Colab\"/></a>"
      ]
    },
    {
      "cell_type": "code",
      "execution_count": null,
      "metadata": {
        "id": "ofCCvwXQsl76"
      },
      "outputs": [],
      "source": [
        "      )  (\n",
        "     (   ) )\n",
        "      ) ( (\n",
        "    _______)_\n",
        " .-'---------|\n",
        "( C|/\\/\\/\\/\\/|\n",
        " '-./\\/\\/\\/\\/|\n",
        "   '_________'\n",
        "    '-------'"
      ]
    },
    {
      "cell_type": "markdown",
      "source": [
        "# **Estes códigos não funcionam fora de ambientes da IBM.**:\n",
        "\n",
        "---\n",
        "Necessárias bibliotecas disponíveis apenas na Cloud da IBM."
      ],
      "metadata": {
        "id": "G8wivm9CAZ21"
      }
    },
    {
      "cell_type": "markdown",
      "source": [
        "**# Bibliotecas e Inicialização do LLM**\n",
        "\n",
        "---\n",
        "\n",
        "### **Estágio** **1. Importando bibliotecas**\n",
        "\n",
        "Por que: Este estágio envolve a preparação do seu ambiente Python com as bibliotecas e configurações necessárias. Isso é essencial para acessar os serviços de IA da IBM Watson e outras funções necessárias no projeto.\n",
        "\n",
        "Como:\n",
        "\n",
        "Importe Bibliotecas: Importe bibliotecas como ibm_watson_machine_learning para integração de modelos de IA e BeautifulSoup para análise de conteúdo HTML. 😊"
      ],
      "metadata": {
        "id": "QVEKIB7OxRMb"
      }
    },
    {
      "cell_type": "code",
      "source": [
        "#------------> Import required libraries from various modules. <-------------\n",
        "# Import required libraries from various modules.\n",
        "from ibm_watson_machine_learning.foundation_models.extensions.langchain import WatsonxLLM\n",
        "from ibm_watson_machine_learning.metanames import GenTextParamsMetaNames as GenParams\n",
        "from ibm_watson_machine_learning.foundation_models import Model\n",
        "\n",
        "# langchain library for embeddings, text splitting, and conversational retrieval.\n",
        "from langchain.embeddings import HuggingFaceInstructEmbeddings\n",
        "from langchain.text_splitter import RecursiveCharacterTextSplitter\n",
        "from langchain.chains import ConversationalRetrievalChain\n",
        "from langchain.prompts.prompt import PromptTemplate\n",
        "\n",
        "# Document loader and vector store modules for processing PDFs.\n",
        "from langchain.document_loaders import PyPDFDirectoryLoader\n",
        "from langchain.vectorstores import FAISS\n",
        "\n",
        "# BeautifulSoup for parsing HTML content.\n",
        "from bs4 import BeautifulSoup\n",
        "\n",
        "# Flask for web server and CORS for cross-origin resource sharing.\n",
        "from flask import Flask, jsonify, render_template\n",
        "from flask_cors import CORS\n",
        "\n",
        "\n",
        "\n",
        "\n",
        "#\n",
        "\n",
        "\n",
        "\n",
        "\n",
        "\n",
        "\n",
        "\n",
        "\n",
        "\n",
        "\n"
      ],
      "metadata": {
        "colab": {
          "base_uri": "https://localhost:8080/",
          "height": 384
        },
        "id": "TbTbbU2xvATr",
        "outputId": "984b62f5-4d73-4200-d28f-ca066fe6c179"
      },
      "execution_count": 2,
      "outputs": [
        {
          "output_type": "error",
          "ename": "ModuleNotFoundError",
          "evalue": "No module named 'ibm_watson_machine_learning'",
          "traceback": [
            "\u001b[0;31m---------------------------------------------------------------------------\u001b[0m",
            "\u001b[0;31mModuleNotFoundError\u001b[0m                       Traceback (most recent call last)",
            "\u001b[0;32m<ipython-input-2-ff2e59c0ffed>\u001b[0m in \u001b[0;36m<cell line: 3>\u001b[0;34m()\u001b[0m\n\u001b[1;32m      1\u001b[0m \u001b[0;31m#------------> Import required libraries from various modules. <-------------\u001b[0m\u001b[0;34m\u001b[0m\u001b[0;34m\u001b[0m\u001b[0m\n\u001b[1;32m      2\u001b[0m \u001b[0;31m# Import required libraries from various modules.\u001b[0m\u001b[0;34m\u001b[0m\u001b[0;34m\u001b[0m\u001b[0m\n\u001b[0;32m----> 3\u001b[0;31m \u001b[0;32mfrom\u001b[0m \u001b[0mibm_watson_machine_learning\u001b[0m\u001b[0;34m.\u001b[0m\u001b[0mfoundation_models\u001b[0m\u001b[0;34m.\u001b[0m\u001b[0mextensions\u001b[0m\u001b[0;34m.\u001b[0m\u001b[0mlangchain\u001b[0m \u001b[0;32mimport\u001b[0m \u001b[0mWatsonxLLM\u001b[0m\u001b[0;34m\u001b[0m\u001b[0;34m\u001b[0m\u001b[0m\n\u001b[0m\u001b[1;32m      4\u001b[0m \u001b[0;32mfrom\u001b[0m \u001b[0mibm_watson_machine_learning\u001b[0m\u001b[0;34m.\u001b[0m\u001b[0mmetanames\u001b[0m \u001b[0;32mimport\u001b[0m \u001b[0mGenTextParamsMetaNames\u001b[0m \u001b[0;32mas\u001b[0m \u001b[0mGenParams\u001b[0m\u001b[0;34m\u001b[0m\u001b[0;34m\u001b[0m\u001b[0m\n\u001b[1;32m      5\u001b[0m \u001b[0;32mfrom\u001b[0m \u001b[0mibm_watson_machine_learning\u001b[0m\u001b[0;34m.\u001b[0m\u001b[0mfoundation_models\u001b[0m \u001b[0;32mimport\u001b[0m \u001b[0mModel\u001b[0m\u001b[0;34m\u001b[0m\u001b[0;34m\u001b[0m\u001b[0m\n",
            "\u001b[0;31mModuleNotFoundError\u001b[0m: No module named 'ibm_watson_machine_learning'",
            "",
            "\u001b[0;31m---------------------------------------------------------------------------\u001b[0;32m\nNOTE: If your import is failing due to a missing package, you can\nmanually install dependencies using either !pip or !apt.\n\nTo view examples of installing some common dependencies, click the\n\"Open Examples\" button below.\n\u001b[0;31m---------------------------------------------------------------------------\u001b[0m\n"
          ],
          "errorDetails": {
            "actions": [
              {
                "action": "open_url",
                "actionText": "Open Examples",
                "url": "/notebooks/snippets/importing_libraries.ipynb"
              }
            ]
          }
        }
      ]
    },
    {
      "cell_type": "markdown",
      "source": [
        "**Estágio 2. Inicializando o modelo de IA**\n",
        "\n",
        "**Por que:**\n",
        "Este passo configura e inicializa o modelo de IA que será usado posteriormente para gerar respostas para preencher o formulário. Alternativamente, você pode usar modelos OpenAI GPT ou modelos HuggingFace.\n",
        "\n",
        "**Como:**\n",
        "\n",
        "1. **Definir parâmetros:**\n",
        "   - Defina parâmetros como `MAX_NEW_TOKENS` e `TEMPERATURE`, que controlam o comportamento de geração de texto da IA.\n",
        "\n",
        "2. **Inicializar o modelo:**\n",
        "   - Configure a classe `WatsonxLLM` usando o ID do modelo fornecido, credenciais e os parâmetros especificados.\n",
        "   - A autenticação já foi prearranjada pela equipe da Skills Network, portanto, não é necessário criar uma chave de API.\n",
        "   - Se você quiser explorar mais o que a plataforma Watsonx tem a oferecer, considere visitar o site oficial para explorar opções de teste gratuito.\n",
        "\n"
      ],
      "metadata": {
        "id": "4zFHVIU4xMKC"
      }
    },
    {
      "cell_type": "code",
      "source": [
        "\n",
        "#------------> Function to initialize and retrieve the language model from IBM Watson. <------------\n",
        "def get_llm():\n",
        "    # Credentials for accessing IBM Watson services.\n",
        "    my_credentials = {\n",
        "        \"url\": \"https://us-south.ml.cloud.ibm.com\",\n",
        "    }\n",
        "\n",
        "    # Parameters for controlling the generation of text by the model.\n",
        "    params = {\n",
        "        GenParams.MAX_NEW_TOKENS: 256, # Maximum tokens generated per run.\n",
        "        GenParams.TEMPERATURE: 0.0,    # Controls randomness in generation.\n",
        "    }\n",
        "\n",
        "    # Initialize the model with specified ID and credentials.\n",
        "    LLAMA2_model = Model(\n",
        "        model_id='meta-llama/llama-2-70b-chat',\n",
        "        credentials=my_credentials,\n",
        "        params=params,\n",
        "        project_id=\"skills-network\")\n",
        "\n",
        "    # Create and return the Watson Language Model.\n",
        "    llm = WatsonxLLM(model=LLAMA2_model)\n",
        "    return llm"
      ],
      "metadata": {
        "id": "TlU65ZTrxLmi"
      },
      "execution_count": null,
      "outputs": []
    },
    {
      "cell_type": "markdown",
      "source": [
        "\n",
        "**Vamos testar!**\n",
        "---\n",
        "\n",
        "Testar o seu código regularmente é essencial. Você pode fazer isso executando o script e obtendo uma resposta da instância do LLM. Use o método `.predict` para inserir o seu prompt e, em seguida, exiba o resultado. Por exemplo, tente `llm.predict(\"Diga-me como é viver em Toronto?\")` para ver o que o modelo diz.\n",
        "\n",
        "Como exercício, experimente a sua instância do LLM com um prompt de sua escolha e imprima a saída. 😊\n",
        "\n",
        "# Testando a nossa instância do LLM executando-a.\n",
        "llm = get_llm()\n",
        "llm_output = llm.predict(\"Tell how it is like to live in Toronto?\")\n",
        "print(llm_output)"
      ],
      "metadata": {
        "id": "SAbzCfQwxqNh"
      }
    },
    {
      "cell_type": "code",
      "source": [
        "    # Create and return the Watson Language Model.\n",
        "    llm = WatsonxLLM(model=LLAMA2_model)\n",
        "    return llm\n",
        "    # tesing our llm instance by running it\n",
        "#llm = get_llm()\n",
        "#llm_output = llm.predict(\"Tell how it is like to live in Toronto?\")\n",
        "#print(llm_output)\n"
      ],
      "metadata": {
        "id": "kvZEYQ6kyPC-"
      },
      "execution_count": null,
      "outputs": []
    },
    {
      "cell_type": "markdown",
      "source": [
        "**Processamento de dados: Estágio 3. Processamento de dados e criação de banco de dados de vetores**\n",
        "\n",
        "**Por que é necessário:**\n",
        "\n",
        "Para lidar eficientemente com grandes quantidades de dados de texto e realizar buscas, especialmente em aplicações de processamento de linguagem natural como o preenchimento automático de formulários com IA, é essencial criar um banco de dados de vetores e usar um mecanismo de classificação (ou recuperação).\n",
        "\n",
        "**Banco de dados de vetores:**\n",
        "\n",
        "- **Propósito:** Um banco de dados de vetores armazena informações em um formato que um computador pode processar rapidamente. Ele transforma o texto em vetores matemáticos, que são listas de números que representam o significado do texto.\n",
        "- **Por que é necessário:** Quando lidamos com muitos documentos ou textos extensos, encontrar a informação específica necessária para preencher um formulário pode ser como procurar uma agulha no palheiro. Um banco de dados de vetores permite que a IA pesquise esses \"palheiros\" incrivelmente rápido para encontrar a \"agulha\" exata - o pedaço de informação necessário.\n",
        "- **Benefícios:** Essa abordagem é muito mais rápida do que ler todos os documentos toda vez que você precisa encontrar algo. Além disso, é mais precisa porque a IA entende o contexto da informação que está buscando, graças às propriedades matemáticas dos vetores. Neste projeto de preenchimento automático de formulários, o banco de dados de vetores ajuda a IA a entender o que está lendo nos documentos, e o mecanismo de classificação garante que as informações usadas para preencher os formulários sejam o mais relevantes possível para as perguntas feitas por cada campo do formulário.\n",
        "\n",
        "**Processamento dos dados envolve:**\n",
        "\n",
        "1. **Carregamento dos documentos:**\n",
        "   - Os arquivos PDF do diretório \"info\" são carregados no sistema. O `PyPDFDirectoryLoader` é usado para carregar arquivos PDF de um diretório.\n",
        "\n",
        "2. **Divisão do texto:**\n",
        "   - O texto desses documentos é dividido em partes menores, ou \"pedaços\", para facilitar o processamento. O `RecursiveCharacterTextSplitter` divide os documentos em pedaços menores para processamento mais fácil.\n",
        "\n",
        "3. **Criação de embeddings:**\n",
        "   - A linha `HuggingFaceInstructEmbeddings` refere-se ao uso de um modelo pré-treinado da Hugging Face (uma biblioteca popular de processamento de linguagem natural) para criar embeddings.\n",
        "   - O modelo específico, \"sentence-transformers/all-MiniLM-L6-v2\", é projetado para converter sentenças em embeddings. Isso significa que ele lê os pedaços de texto e os transforma em vetores. Cada vetor captura o significado semântico do pedaço de texto, incluindo contexto e a relação das palavras dentro desse pedaço.\n",
        "\n",
        "4. **Indexação para recuperação:**\n",
        "   - A linha `FAISS.from_documents` trata de pegar esses vetores e colocá-los em um banco de dados chamado FAISS (Facebook AI Similarity Search).\n",
        "   - O FAISS é projetado para pesquisar eficientemente esses vetores e encontrar as melhores correspondências para qualquer consulta dada. Isso torna muito mais rápido encontrar pedaços relevantes de texto posteriormente ao preencher formulários.\n",
        "\n",
        "**Criar um embedding é o processo de transformar pedaços de texto de arquivos PDF em vetores que capturam seu significado, permitindo que a IA pesquise e recupere informações rapidamente.**"
      ],
      "metadata": {
        "id": "3wGVgnsHy4Ge"
      }
    },
    {
      "cell_type": "markdown",
      "source": [
        "Teste"
      ],
      "metadata": {
        "id": "CBpb8QnozTTA"
      }
    },
    {
      "cell_type": "code",
      "source": [
        "#------------> Function to process and index PDF documents. <------------\n",
        "def process_data():\n",
        "    # Load PDF documents from a specified directory.\n",
        "    loader = PyPDFDirectoryLoader(\"info\")\n",
        "    docs = loader.load()\n",
        "\n",
        "    print(\"\\ntype of docs:\",type(docs))\n",
        "    print(\"\\n docs:\", docs)\n",
        "\n",
        "    # Split the text from documents for better processing.\n",
        "    text_splitter = RecursiveCharacterTextSplitter(chunk_size=250, chunk_overlap=50)\n",
        "    texts = text_splitter.split_documents(docs)\n",
        "\n",
        "    print(\"\\ntype of texts:\",type(texts))\n",
        "    print(\"\\ntexts:\",texts)\n",
        "\n",
        "    # Create embeddings for the text data.\n",
        "    embeddings = HuggingFaceInstructEmbeddings(model_name=\"sentence-transformers/all-MiniLM-L6-v2\")\n",
        "    print(\"\\ntype of embeddings:\",type(embeddings))\n",
        "    print(\"\\nembeddings:\",embeddings)\n",
        "\n",
        "    # Index the documents using FAISS for efficient retrieval.\n",
        "    db = FAISS.from_documents(texts, embeddings)\n",
        "\n",
        "    print(\"\\ntype of vector db:\",type(db))\n",
        "\n",
        "    return db\n",
        "\n",
        "process_data()  # this line is only for testing, remove this line before going to the next step"
      ],
      "metadata": {
        "id": "Ll1w7mcCzUFG"
      },
      "execution_count": null,
      "outputs": []
    },
    {
      "cell_type": "markdown",
      "source": [
        "## **rodar comando**  \n",
        "\n",
        "---\n",
        "python3.11 Auto_filler_AI.py"
      ],
      "metadata": {
        "id": "hCqeLLIbzVLv"
      }
    },
    {
      "cell_type": "markdown",
      "source": [
        "**Obtendo os campos do formulário: Estágio 4. Identificação dos campos do formulário**\n",
        "\n",
        "**Por que:** Para automatizar o preenchimento de formulários, você primeiro precisa saber quais campos estão presentes no formulário e suas características.\n",
        "\n",
        "**Como:**\n",
        "\n",
        "1. **Analisar o HTML:**\n",
        "   - Leia o arquivo HTML e use o BeautifulSoup para analisá-lo.\n",
        "   - Extraia os campos do formulário: Identifique elementos do formulário, como caixas de entrada, menus suspensos e áreas de texto, e extraia seus rótulos e IDs para identificação.\n",
        "   - Neste caso, a imagem a seguir mostra um formulário de imposto simples, que é um arquivo HTML dentro da pasta \"templates\".\n",
        "\n",
        "2. **A função get_form_field_descriptions foi projetada para ler um arquivo HTML e extrair informações sobre os campos do formulário presentes nele. Aqui está uma explicação passo a passo:**\n",
        "\n",
        "   - **Abrindo e lendo o arquivo HTML:**\n",
        "     - A função recebe um caminho de arquivo (html_file_path) como entrada.\n",
        "     - Ela abre o arquivo HTML especificado e lê seu conteúdo em uma variável chamada html_content.\n",
        "\n",
        "   - **Analisando o conteúdo HTML:**\n",
        "     - O conteúdo do arquivo HTML é então analisado usando o BeautifulSoup, uma biblioteca Python para extrair dados de arquivos HTML e XML.\n",
        "     - Esse processo de análise transforma o conteúdo HTML em um formato que pode ser facilmente navegado e pesquisado programaticamente.\n",
        "\n",
        "   - **Encontrando os campos do formulário:**\n",
        "     - A função busca no HTML analisado pelos campos do formulário.\n",
        "     - Especificamente, ela procura por elementos HTML como input, select e textarea, que são comuns em formulários da web.\n",
        "     - Cada um desses elementos representa um tipo diferente de campo de entrada em um formulário.\n",
        "\n",
        "   - **Extraindo informações dos campos:**\n",
        "     - Para cada campo do formulário encontrado, a função coleta informações relevantes.\n",
        "     - Primeiro, ela tenta encontrar um elemento de rótulo associado ao campo, que normalmente fornece uma descrição legível pelo ser humano do propósito do campo (como \"Nome\" ou \"Endereço de e-mail\").\n",
        "     - Se um rótulo não for encontrado, a função procura por um atributo de placeholder ou name no campo como alternativa para usar como rótulo.\n",
        "     - Ela também captura o atributo ID ou name do campo, que geralmente é usado para identificar exclusivamente o campo no formulário.\n",
        "\n",
        "   - **Armazenando os dados dos campos:**\n",
        "     - As informações coletadas (rótulo e ID ou name) para cada campo são armazenadas em um dicionário (field_data).\n",
        "     - Esse dicionário é então adicionado a uma lista (field_info), que contém os dados de todos os campos encontrados no formulário.\n",
        "\n",
        "   - **Retornando os dados:**\n",
        "     - Finalmente, a função retorna a lista field_info, que agora contém dicionários com pares de rótulo e ID/nome para cada campo do formulário no arquivo HTML.\n"
      ],
      "metadata": {
        "id": "9jbh1x2OzZRw"
      }
    },
    {
      "cell_type": "code",
      "source": [
        "#------------> Function to extract form field descriptions from an HTML file. <------------\n",
        "def get_form_field_descriptions(html_file_path):\n",
        "    with open(html_file_path, 'r') as file:\n",
        "        html_content = file.read()\n",
        "\n",
        "    soup = BeautifulSoup(html_content, 'html.parser')\n",
        "\n",
        "    # Find and process all form fields in the HTML.\n",
        "    form_fields = soup.find_all(['input', 'select', 'textarea'])\n",
        "    field_info = []\n",
        "    for field in form_fields:\n",
        "        field_data = {}\n",
        "\n",
        "        # Extract label text or use placeholder/name as a fallback.\n",
        "        label = soup.find('label', {'for': field.get('id')})\n",
        "        if label:\n",
        "            field_data['label'] = label.get_text().strip().rstrip(':')\n",
        "        else:\n",
        "            placeholder = field.get('placeholder')\n",
        "            name = field.get('name')\n",
        "            description = placeholder if placeholder else name\n",
        "            if description:\n",
        "                field_data['label'] = description.strip()\n",
        "\n",
        "        # Include the ID or name of the field in the data.\n",
        "        field_id = field.get('id') or field.get('name')\n",
        "        if field_id:\n",
        "            field_data['id'] = field_id\n",
        "\n",
        "        # Add complete field data to the list.\n",
        "        if 'label' in field_data and 'id' in field_data:\n",
        "            field_info.append(field_data)\n",
        "\n",
        "    return field_info"
      ],
      "metadata": {
        "id": "Pr7M1UK3zfHV"
      },
      "execution_count": null,
      "outputs": []
    },
    {
      "cell_type": "markdown",
      "source": [
        "\n",
        "**Tarefa: Acesse a pasta \"templates\" e abra o arquivo HTML localizado lá. Examine cuidadosamente o formulário e seus vários campos. Considere quais itens dentro do formulário você gostaria de extrair.**\n",
        "\n",
        "\n",
        "\n"
      ],
      "metadata": {
        "id": "53Wv2_Pdznda"
      }
    },
    {
      "cell_type": "code",
      "source": [
        "#teste\n",
        "def get_form_field_descriptions(html_file_path):\n",
        "    ...\n",
        "    return field_info\n",
        "\n",
        "simple_tax_fields_info = get_form_field_descriptions(\"templates/styled_tax_form.html\")\n",
        "print(simple_tax_fields_info)"
      ],
      "metadata": {
        "id": "hC4G8Kt8zoP5"
      },
      "execution_count": null,
      "outputs": []
    },
    {
      "cell_type": "code",
      "source": [],
      "metadata": {
        "id": "38ZnRYn5ztRP"
      },
      "execution_count": null,
      "outputs": []
    },
    {
      "cell_type": "markdown",
      "source": [
        "# **Gerando respostas com base nos documentos e nos campos HTML**\n",
        "\n",
        "## **Estágio 5. Gerando respostas**\n",
        "\n",
        "Por que: Nesta etapa, o modelo de IA é usado para preencher automaticamente o formulário com base no conteúdo dos documentos carregados.\n",
        "\n",
        "Antes de entrar no código, vou explicar brevemente a geração com recuperação (RAG).\n",
        "\n",
        "**Classificação/geração com recuperação:**\n",
        "\n",
        "Propósito: O mecanismo de recuperação ajuda a decidir quais informações são mais relevantes para a pergunta ou prompt com o qual você está lidando.\n",
        "\n",
        "Por que é necessário: Quando a IA pesquisa o banco de dados de vetores, ela pode encontrar muitas informações que poderiam ser a resposta. O algoritmo de classificação ordena esses resultados para mostrar a melhor correspondência no topo, assim como os mecanismos de busca mostram os resultados mais relevantes primeiro.\n",
        "\n",
        "Benefícios: Isso garante que a IA preencha o formulário com as informações mais precisas disponíveis. Economiza tempo, reduzindo a necessidade de verificar manualmente se a IA escolheu os detalhes corretos.\n",
        "\n",
        "A função filling_form neste script Python foi projetada para preencher automaticamente os campos do formulário usando informações extraídas de documentos. A seguir, uma explicação detalhada de como ela funciona:\n",
        "\n",
        "Inicialização do modelo de linguagem e processamento de dados: A função começa inicializando um modelo de linguagem (llm) usando a função get_llm(). Esse modelo é capaz de entender e gerar linguagem natural. Ela também chama process_data(), que provavelmente processa documentos (como arquivos PDF) para torná-los pesquisáveis e extrai informações relevantes para uso.\n",
        "Preparação para o preenchimento do formulário: A função recebe form_fields_info, uma lista de dicionários onde cada dicionário contém informações sobre um campo do formulário (como rótulo e ID). Uma lista vazia chamada structured_responses é criada para armazenar as respostas para cada campo do formulário.\n",
        "Criação de prompts para cada campo: Para cada campo em form_fields_info, a função gera um prompt. Esse prompt é uma pergunta para o modelo de linguagem, pedindo que ele forneça as informações necessárias para aquele campo específico do formulário. O prompt é criado usando o rótulo e o ID do campo para especificar que informações são necessárias.\n",
        "Configuração de uma cadeia de recuperação conversacional: Uma cadeia de recuperação conversacional é configurada usando o modelo de linguagem (llm) e o banco de dados de documentos (db). Essa cadeia lida com a tarefa de encontrar a resposta correta nos documentos processados com base no prompt. db.as_retriever provavelmente converte o banco de dados de documentos em um formato que pode ser usado para recuperar informações específicas. O parâmetro search_kwargs={'k': 4} sugere que os 4 melhores resultados mais relevantes sejam recuperados para consideração.\n",
        "Recuperação e armazenamento de respostas: Para cada campo, a cadeia conversacional é executada com o prompt fornecido. Esse processo envolve o modelo de IA pesquisando o banco de dados de documentos para encontrar a resposta mais relevante. A resposta é extraída do resultado, removendo qualquer espaço em branco extra, e adicionada a structured_responses junto com as informações do campo.\n",
        "Retornando os campos preenchidos: Após processar todos os campos do formulário, a função retorna structured_responses, que agora contém as informações originais do campo e as respostas correspondentes do modelo de IA."
      ],
      "metadata": {
        "id": "q7slaKizz5gs"
      }
    },
    {
      "cell_type": "code",
      "source": [
        "#------------> Function to automate form filling using the processed data. <------------\n",
        "def filling_form(form_fields_info):\n",
        "    # Initialize the language model and data processing tools.\n",
        "    llm = get_llm()\n",
        "    db = process_data()\n",
        "\n",
        "    structured_responses = []\n",
        "    for field in form_fields_info:\n",
        "        # Create a specific prompt for each form field.\n",
        "        prompt = f\"Based on the document, what is the '{field['label']}'? Provide only the required information for the field ID '{field['id']}'.\"\n",
        "\n",
        "        # Set up a conversational chain to retrieve and generate responses.\n",
        "        conversation_chain = ConversationalRetrievalChain.from_llm(\n",
        "            llm=llm,\n",
        "            retriever=db.as_retriever(search_kwargs={'k': 4}),\n",
        "            condense_question_prompt=PromptTemplate(input_variables=[], template=prompt),\n",
        "        )\n",
        "\n",
        "        # Get the response for each field.\n",
        "        result = conversation_chain({\"question\": prompt, \"chat_history\": []})\n",
        "        structured_responses.append({**field, \"response\": result['answer'].strip()})\n",
        "\n",
        "    return structured_responses"
      ],
      "metadata": {
        "id": "gBUIfgV10c_b"
      },
      "execution_count": null,
      "outputs": []
    },
    {
      "cell_type": "markdown",
      "source": [
        "**Exercício: Teste a função e avalie a saída. Para executá-la, você deve primeiro obter os dados para os campos do formulário (estágio anterior) e passá-los para…**"
      ],
      "metadata": {
        "id": "2deQ1WqZ0d6j"
      }
    },
    {
      "cell_type": "code",
      "source": [
        "#teste\n",
        "filling_form(form_fields_info):\n",
        "    ...\n",
        "    return structured_responses\n",
        "\n",
        "data_from_form = get_form_field_descriptions(\"templates/styled_tax_form.html\")\n",
        "structured_responses = filling_form(data_from_form)\n",
        "print(structured_responses)"
      ],
      "metadata": {
        "id": "cQe9AP810i9H"
      },
      "execution_count": null,
      "outputs": []
    },
    {
      "cell_type": "markdown",
      "source": [
        "Feel free to play with the prompt template and change it to make it more accurate output.\n",
        "\n",
        "You should get a response like the folowing code. This is a standard way to represent structured data in JSON format, making it suitable for various applications like web APIs, configuration files, and data storage. Theis information is passed to JavaScript to complete the HTML form."
      ],
      "metadata": {
        "id": "5FgESUrc16UN"
      }
    },
    {
      "cell_type": "markdown",
      "source": [
        "# **Final step: put the mechanism into server and deploy it**\n",
        "### **Why do you need flask?**\n",
        "\n",
        "Etapa final: colocar o mecanismo em um servidor e implantá-lo\n",
        "\n",
        "Por que você precisa do Flask?\n",
        "\n",
        "Para permitir que o seu código JavaScript complete dinamicamente um formulário usando informações de um LLM (Large Language Model), você deve criar um componente intermediário do lado do servidor, como um aplicativo construído com Flask ou Django. Essa aplicação do lado do servidor atua como uma ponte entre o seu JavaScript do lado do cliente e o LLM baseado em Python. As informações a seguir explicam como você pode estruturar essa configuração:\n",
        "\n",
        "**Aplicação do lado do servidor (Python):**\n",
        "\n",
        "Desenvolva uma aplicação do lado do servidor usando um framework web como o Flask. Essa aplicação é executada em um servidor e é responsável por lidar com as solicitações HTTP. Sua aplicação Python se comunica com o LLM para processar dados e gerar respostas.\n",
        "Criação de um ponto de extremidade da API:\n",
        "Dentro da sua aplicação do lado do servidor, configure um ponto de extremidade da API. Esse é um URL específico onde o seu servidor aguarda solicitações vindas do JavaScript do lado do cliente. Por exemplo, você pode criar um ponto de extremidade como /api/get-form-data dedicado ao processamento de solicitações relacionadas ao preenchimento de formulários.\n",
        "\n",
        "Interação com JavaScript do lado do cliente:\n",
        "O seu código JavaScript, executado no navegador do usuário, faz solicitações para o ponto de extremidade da API do lado do servidor quando precisa de dados para preencher o formulário. O código JavaScript está disponível na pasta “static”. Isso pode ser feito usando a API fetch do JavaScript ou outras bibliotecas de cliente HTTP para enviar solicitações para o seu servidor.\n",
        "\n",
        "Processamento de solicitações com o LLM:\n",
        "Quando a aplicação Python do lado do servidor recebe uma solicitação no ponto de extremidade da API, ela interage com o LLM para processar a solicitação. Isso pode envolver o uso do LLM para interpretar a solicitação, buscar os dados necessários ou gerar o texto apropriado para os campos do formulário.\n",
        "\n",
        "Envio de dados de volta para o JavaScript:\n",
        "Após processar a solicitação, a aplicação do lado do servidor envia uma resposta de volta para o código JavaScript. Essa resposta contém os dados ou informações necessárias para completar o formulário. A resposta geralmente é formatada como JSON, o que facilita o processamento pelo JavaScript e a atualização do conteúdo da página da web.\n",
        "\n",
        "Preenchimento de formulários em JavaScript:\n",
        "Após receber a resposta do servidor, o código JavaScript usa esses dados para preencher dinamicamente os campos do formulário na página da web. Em resumo, você configura uma aplicação do servidor baseada em Python que se comunica com o LLM. Essa aplicação do servidor expõe um ponto de extremidade da API que o seu JavaScript do lado do cliente pode chamar para solicitar dados para o preenchimento de formulários. Ao receber os dados do servidor, o JavaScript preenche os campos do formulário conforme necessário.\n",
        "\n",
        "# **Etapa 6: Implantação do servidor web**\n",
        "\n",
        "Por que: O servidor web atua como uma interface entre o usuário e o preenchimento automático de formulários com IA, permitindo que os usuários acessem a função por meio de chamadas à API.\n",
        "\n",
        "Como:\n",
        "\n",
        "Configurar o Flask: Crie um aplicativo Flask e configure o CORS para permitir solicitações de origens cruzadas.\n",
        "Criar um ponto de extremidade da API: Defina uma rota no Flask que é chamada para obter os dados preenchidos do formulário.\n",
        "Iniciar o servidor: Inicie o servidor Flask para tornar a API acessível."
      ],
      "metadata": {
        "id": "HPY9XQQs0jrK"
      }
    },
    {
      "cell_type": "code",
      "source": [
        "#------------> Initialize the Flask application for the web server. <------------\n",
        "app = Flask(__name__)\n",
        "CORS(app)  # Enable cross-origin requests.\n",
        "\n",
        "# Define route for the home page.\n",
        "@app.route('/')\n",
        "def home():\n",
        "    return render_template('styled_tax_form.html')\n",
        "\n",
        "# Define API route to retrieve form data.\n",
        "@app.route('/api/get_tax_form_data', methods=['GET'])\n",
        "def get_tax_form_data():\n",
        "    data_from_form = get_form_field_descriptions(\"templates/styled_tax_form.html\")\n",
        "    structured_responses = filling_form(data_from_form)\n",
        "\n",
        "    # Convert responses to a JSON format for the frontend.\n",
        "    response_data = {field['id']: field['response'] for field in structured_responses}\n",
        "    return jsonify(response_data)\n",
        "\n",
        "# Run the Flask application if this script is executed directly.\n",
        "if __name__ == '__main__':\n",
        "    app.run(debug=True, port=5055)"
      ],
      "metadata": {
        "id": "PXEV3nVw2-zS"
      },
      "execution_count": null,
      "outputs": []
    },
    {
      "cell_type": "markdown",
      "source": [
        "Because you have configured the server to use port=5055, the output message indicates that the server is operational on the default path at port 5055. While the server is running, I aim to launch the web application. To facilitate this, the Skills Network team has provided a plug-in. Follow the provided instructions to access and use the app effectively."
      ],
      "metadata": {
        "id": "3xPDMX7M28DD"
      }
    }
  ]
}